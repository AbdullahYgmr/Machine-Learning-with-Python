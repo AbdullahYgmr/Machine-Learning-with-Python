{
  "nbformat": 4,
  "nbformat_minor": 0,
  "metadata": {
    "colab": {
      "provenance": []
    },
    "kernelspec": {
      "name": "python3",
      "display_name": "Python 3"
    },
    "language_info": {
      "name": "python"
    }
  },
  "cells": [
    {
      "cell_type": "markdown",
      "source": [
        "## Desicion Tree Regression Model\n"
      ],
      "metadata": {
        "id": "OshCdmfG1Exh"
      }
    },
    {
      "cell_type": "markdown",
      "source": [
        "## Prepare dataset"
      ],
      "metadata": {
        "id": "5zRj6VtL3ILp"
      }
    },
    {
      "cell_type": "code",
      "source": [
        "from sklearn.datasets import load_diabetes\n",
        "from sklearn.model_selection import train_test_split\n",
        "from sklearn.tree import DecisionTreeRegressor\n",
        "\n",
        "diabetes = load_diabetes()\n",
        "X = diabetes.data ## features\n",
        "y = diabetes.target ## target\n",
        "\n",
        "X_train,X_test,y_train,y_test = train_test_split(X,y,test_size = 0.3, random_state=42)"
      ],
      "metadata": {
        "id": "rnrZkK0z1KW6"
      },
      "execution_count": null,
      "outputs": []
    },
    {
      "cell_type": "markdown",
      "source": [
        "## Train and Select Model"
      ],
      "metadata": {
        "id": "Nq7QGJev3tat"
      }
    },
    {
      "cell_type": "code",
      "source": [
        "train_reg = DecisionTreeRegressor(random_state = 42)\n",
        "train_reg.fit(X_train,y_train)\n",
        "y_pred = train_reg.predict(X_test) ## make prediction"
      ],
      "metadata": {
        "id": "t4Redb5g21Lw"
      },
      "execution_count": null,
      "outputs": []
    },
    {
      "cell_type": "markdown",
      "source": [
        "### Count MSE and Root MSE(Mean Squared Error/ Root Mean Square Error)"
      ],
      "metadata": {
        "id": "tJDvrx2R5CMD"
      }
    },
    {
      "cell_type": "code",
      "source": [
        "from sklearn.metrics import mean_squared_error ## MSE\n",
        "import numpy as np\n",
        "\n",
        "MSE = mean_squared_error(y_test,y_pred)\n",
        "print(f\"MSE: {MSE}\" )\n",
        "\n",
        "root_mse = np.sqrt(MSE)\n",
        "print(f\"root_mse: {root_mse}\")\n",
        "\n",
        "\"\"\"   MSE: Mainly used for mathematical processing or analyzing model performance.\n",
        "      RMSE: Preferred in practice as it is easier to interpret due to its unit matching the predicted variable.\n",
        "  Example:\n",
        "If a house price prediction model is being evaluated for errors between predicted and actual prices:\n",
        "MSE: Shows the magnitude of the errors (e.g., 10,000,000 units²).\n",
        "RMSE: Gives an approximate average error (e.g., 3,162 units), making it easier to understand.\n",
        "These metrics are critical for optimizing models and comparing different models.\n",
        "\"\"\""
      ],
      "metadata": {
        "colab": {
          "base_uri": "https://localhost:8080/",
          "height": 122
        },
        "id": "K1JyN3rh3-C3",
        "outputId": "256002bc-f2eb-4240-ef05-4a47a3aa06ee"
      },
      "execution_count": null,
      "outputs": [
        {
          "output_type": "stream",
          "name": "stdout",
          "text": [
            "MSE: 5697.789473684211\n",
            "root_mse: 75.48370336492647\n"
          ]
        },
        {
          "output_type": "execute_result",
          "data": {
            "text/plain": [
              "'   MSE: Mainly used for mathematical processing or analyzing model performance.\\n      RMSE: Preferred in practice as it is easier to interpret due to its unit matching the predicted variable.\\n  Example:\\nIf a house price prediction model is being evaluated for errors between predicted and actual prices:\\nMSE: Shows the magnitude of the errors (e.g., 10,000,000 units²).\\nRMSE: Gives an approximate average error (e.g., 3,162 units), making it easier to understand.\\nThese metrics are critical for optimizing models and comparing different models. \\n'"
            ],
            "application/vnd.google.colaboratory.intrinsic+json": {
              "type": "string"
            }
          },
          "metadata": {},
          "execution_count": 13
        }
      ]
    },
    {
      "cell_type": "code",
      "source": [],
      "metadata": {
        "id": "bKlpujNd6tXn"
      },
      "execution_count": null,
      "outputs": []
    }
  ]
}